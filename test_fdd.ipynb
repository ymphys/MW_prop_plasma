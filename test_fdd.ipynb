{
 "cells": [
  {
   "cell_type": "code",
   "execution_count": 1,
   "id": "e93f927e",
   "metadata": {},
   "outputs": [
    {
     "name": "stdout",
     "output_type": "stream",
     "text": [
      "Ez_src 最大值: 6.633e+02 V/m\n",
      "Ez_src 非零区间: 2.000e-11 s ~ 4.023e-08 s\n",
      "time 序列范围: 0.000e+00 s ~ 4.023e-08 s, 共 12070 点\n"
     ]
    }
   ],
   "source": [
    "import numpy as np\n",
    "\n",
    "# 读取数据\n",
    "data = np.loadtxt(\"Ez_src.dat\", skiprows=1)\n",
    "time = data[:, 0]\n",
    "Ez_src = data[:, 1]\n",
    "\n",
    "# 最大值\n",
    "max_val = np.max(Ez_src)\n",
    "print(f\"Ez_src 最大值: {max_val:.3e} V/m\")\n",
    "\n",
    "# 非零区间（绝对值大于某阈值）\n",
    "threshold = 1e-6  # 可根据实际噪声水平调整\n",
    "nonzero_indices = np.where(np.abs(Ez_src) > threshold)[0]\n",
    "if nonzero_indices.size > 0:\n",
    "    start_idx, end_idx = nonzero_indices[0], nonzero_indices[-1]\n",
    "    print(f\"Ez_src 非零区间: {time[start_idx]:.3e} s ~ {time[end_idx]:.3e} s\")\n",
    "else:\n",
    "    print(\"Ez_src 全为零或信号低于阈值\")\n",
    "\n",
    "# 输出 time 序列的基本信息\n",
    "print(f\"time 序列范围: {time[0]:.3e} s ~ {time[-1]:.3e} s, 共 {len(time)} 点\")"
   ]
  },
  {
   "cell_type": "code",
   "execution_count": null,
   "id": "196b0ae9",
   "metadata": {},
   "outputs": [],
   "source": []
  }
 ],
 "metadata": {
  "kernelspec": {
   "display_name": "mw-prop-plasma",
   "language": "python",
   "name": "python3"
  },
  "language_info": {
   "codemirror_mode": {
    "name": "ipython",
    "version": 3
   },
   "file_extension": ".py",
   "mimetype": "text/x-python",
   "name": "python",
   "nbconvert_exporter": "python",
   "pygments_lexer": "ipython3",
   "version": "3.8.5"
  }
 },
 "nbformat": 4,
 "nbformat_minor": 5
}
